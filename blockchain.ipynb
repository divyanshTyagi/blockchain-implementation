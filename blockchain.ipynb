{
 "cells": [
  {
   "cell_type": "code",
   "execution_count": 42,
   "id": "475e5d66-6064-41da-8cd5-2c5ffd73741e",
   "metadata": {},
   "outputs": [],
   "source": [
    "import datetime\n",
    "import hashlib\n",
    "import json\n",
    "from flask import Flask, jsonify\n",
    "import random"
   ]
  },
  {
   "cell_type": "markdown",
   "id": "02016240-93db-4ff2-9a82-979e059cd59b",
   "metadata": {},
   "source": [
    "#### Components of a blockchain\n",
    "1. Genesis Block\n",
    "2. chain containing blocks, represented as a list\n",
    "\n",
    "### Functions in the blockchain class\n",
    "1. \\_\\_init\\_\\_ -- Initializes the block chain with an empty list, also adds a genesis block to it\n",
    "2. get_last_block -- Get the last block in the chain\n",
    "3. create_block -- generates a new block and appends it to the end of the chain\n"
   ]
  },
  {
   "cell_type": "code",
   "execution_count": 46,
   "id": "43d18fe1-5f67-42de-aa31-b20ca7049963",
   "metadata": {},
   "outputs": [],
   "source": [
    "class Block:\n",
    "    \n",
    "    \n",
    "    def __init__(self,proof,previous_hash,id):\n",
    "        self.proof = proof\n",
    "        self.previous_hash = previous_hash\n",
    "        self.id  = id\n",
    "        self.time_of_creation = datetime.datetime.now()\n",
    "        \n",
    "    \n",
    "class Blockchain:\n",
    "    def __init__(self):\n",
    "        self.chain_length = 1\n",
    "        self.chain = [] \n",
    "        self.create_block(id = self.chain_length,proof = 1,previous_hash ='0')\n",
    "    \n",
    "    # Proof is the proof of work obtained after mining the block    \n",
    "    # block is added to the chain after mining\n",
    "    def create_block(self,proof,previous_hash,id):\n",
    "            new_block = Block(proof,previous_hash,id) # create a new block to add\n",
    "            self.chain.append(new_block)\n",
    "            \n",
    "    def get_last_block(self): # Get the last block in the chain\n",
    "        return self.chain[-1]\n",
    "    \n",
    "    def generate_proof_of_work(self,prev_nonce): # returns the nonce value which will create a hash value less having 0000 prefix\n",
    "        curr_nonce = 1 #keep generating a new nonce until we get the right hash\n",
    "        while(1):\n",
    "            random_hash = hashlib.sha256(str(curr_nonce**3 - prev_nonce**2).encode()).hexdigest() \n",
    "            #the sha256 algorithm will generate a 64 charactes long hexadecimal string\n",
    "            # the encode method will .....\n",
    "            if(random_hash[:4] == '0000'): # return the curr_nonce if the hash generated has 4 zeros\n",
    "                return curr_nonce\n",
    "            else:\n",
    "                curr_nonce = random.randint(1,10**77)\n",
    "            \n",
    "                \n",
    "B = Blockchain()        "
   ]
  },
  {
   "cell_type": "code",
   "execution_count": 59,
   "id": "a581a0ff-2bdb-4212-84e4-48246a0fb499",
   "metadata": {},
   "outputs": [
    {
     "data": {
      "text/plain": [
       "55226893715554542233510875305338582540013649437910382469434892011851530053241"
      ]
     },
     "execution_count": 59,
     "metadata": {},
     "output_type": "execute_result"
    }
   ],
   "source": [
    "B.generate_proof_of_work(3)"
   ]
  }
 ],
 "metadata": {
  "kernelspec": {
   "display_name": "Python [conda env:torch] *",
   "language": "python",
   "name": "conda-env-torch-py"
  },
  "language_info": {
   "codemirror_mode": {
    "name": "ipython",
    "version": 3
   },
   "file_extension": ".py",
   "mimetype": "text/x-python",
   "name": "python",
   "nbconvert_exporter": "python",
   "pygments_lexer": "ipython3",
   "version": "3.7.10"
  }
 },
 "nbformat": 4,
 "nbformat_minor": 5
}
