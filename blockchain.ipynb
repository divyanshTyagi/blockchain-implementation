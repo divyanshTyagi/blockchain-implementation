{
 "cells": [
  {
   "cell_type": "code",
   "execution_count": 1,
   "id": "475e5d66-6064-41da-8cd5-2c5ffd73741e",
   "metadata": {},
   "outputs": [],
   "source": [
    "import datetime\n",
    "import hashlib\n",
    "import json\n",
    "from flask import Flask, jsonify"
   ]
  },
  {
   "cell_type": "markdown",
   "id": "02016240-93db-4ff2-9a82-979e059cd59b",
   "metadata": {},
   "source": [
    "#### Components of a blockchain\n",
    "1. Genesis Block\n",
    "2. chain containing blocks, represented as a list\n",
    "\n",
    "### Functions in the blockchain class\n",
    "1. \\_\\_init\\_\\_ -- Initializes the block chain with an empty list, also adds a genesis block to it\n",
    "2. get_last_block -- Get the last block in the chain\n",
    "3. create_block -- generates a new block and appends it to the end of the chain\n"
   ]
  },
  {
   "cell_type": "code",
   "execution_count": 64,
   "id": "43d18fe1-5f67-42de-aa31-b20ca7049963",
   "metadata": {},
   "outputs": [],
   "source": [
    "class Block:\n",
    "    \n",
    "    \n",
    "    def __init__(self,proof,previous_hash,id):\n",
    "        self.proof = proof\n",
    "        self.previous_hash = previous_hash\n",
    "        self.id  = id\n",
    "        self.time_of_creation = datetime.datetime.now()\n",
    "        \n",
    "    \n",
    "class Blockchain:\n",
    "    def __init__(self):\n",
    "        self.chain_length = 1\n",
    "        self.chain = [] \n",
    "        self.create_block(id = self.chain_length,proof = 1,previous_hash ='0')\n",
    "    \n",
    "    # Proof is the proof of work obtained after mining the block    \n",
    "    # block is added to the chain after mining\n",
    "    def create_block(self,proof,previous_hash,id):\n",
    "            new_block = Block(proof,previous_hash,id) # create a new block to add\n",
    "            self.chain.append(new_block)\n",
    "            \n",
    "    def get_last_block(self): # Get the last block in the chain\n",
    "        return self.chain[-1]\n",
    "                                                \n",
    "                \n",
    "B = Blockchain()        "
   ]
  }
 ],
 "metadata": {
  "kernelspec": {
   "display_name": "Python [conda env:torch] *",
   "language": "python",
   "name": "conda-env-torch-py"
  },
  "language_info": {
   "codemirror_mode": {
    "name": "ipython",
    "version": 3
   },
   "file_extension": ".py",
   "mimetype": "text/x-python",
   "name": "python",
   "nbconvert_exporter": "python",
   "pygments_lexer": "ipython3",
   "version": "3.7.10"
  }
 },
 "nbformat": 4,
 "nbformat_minor": 5
}
