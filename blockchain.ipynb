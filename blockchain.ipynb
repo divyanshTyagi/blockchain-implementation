{
 "cells": [
  {
   "cell_type": "code",
   "execution_count": 1,
   "id": "475e5d66-6064-41da-8cd5-2c5ffd73741e",
   "metadata": {},
   "outputs": [],
   "source": [
    "import datetime\n",
    "import hashlib\n",
    "import json\n",
    "from flask import Flask, jsonify\n",
    "import random"
   ]
  },
  {
   "cell_type": "markdown",
   "id": "02016240-93db-4ff2-9a82-979e059cd59b",
   "metadata": {},
   "source": [
    "#### Components of a blockchain\n",
    "1. Genesis Block\n",
    "2. chain containing blocks, represented as a list\n",
    "\n",
    "### Functions in the blockchain class\n",
    "1. \\_\\_init\\_\\_ -- Initializes the block chain with an empty list, also adds a genesis block to it\n",
    "2. get_last_block -- Get the last block in the chain\n",
    "3. create_block -- generates a new block and appends it to the end of the chain\n"
   ]
  },
  {
   "cell_type": "code",
   "execution_count": 2,
   "id": "43d18fe1-5f67-42de-aa31-b20ca7049963",
   "metadata": {},
   "outputs": [],
   "source": [
    "class Block:\n",
    "    \n",
    "    \n",
    "    def __init__(self,proof,previous_hash,id):\n",
    "        self.proof = proof\n",
    "        self.previous_hash = previous_hash\n",
    "        self.id  = id\n",
    "        self.time_of_creation = datetime.datetime.now()\n",
    "    def serialize(self):\n",
    "        return {\n",
    "            'id': self.id, \n",
    "            'proof': self.proof,\n",
    "            'previous_hash':self.previous_hash,\n",
    "            'time_of_creation': self.time_of_creation\n",
    "        }   \n",
    "    \n",
    "class BlockChain:\n",
    "    def __init__(self):\n",
    "        self.chain_length = 1\n",
    "        self.chain = [] \n",
    "        self.create_block(id = self.chain_length,proof = 1,previous_hash ='0')\n",
    "    \n",
    "    # Proof is the proof of work obtained after mining the block    \n",
    "    # block is added to the chain after mining\n",
    "    def create_block(self,proof,previous_hash,id):\n",
    "            new_block = Block(proof,previous_hash,id) # create a new block to add\n",
    "            self.chain.append(new_block)\n",
    "            \n",
    "    def get_last_block(self): # Get the last block in the chain\n",
    "        return self.chain[-1]\n",
    "    \n",
    "    def generate_proof_of_work(self,prev_nonce): # returns the nonce value which will create a hash value less having 0000 prefix\n",
    "        curr_nonce = 1 #keep generating a new nonce until we get the right hash\n",
    "        while(1):\n",
    "            random_hash = hashlib.sha256(str(curr_nonce**3 - prev_nonce**2).encode()).hexdigest() \n",
    "            #the sha256 algorithm will generate a 64 charactes long hexadecimal string\n",
    "            # the encode method will .....\n",
    "            if(random_hash[:4] == '0000'): # return the curr_nonce if the hash generated has 4 zeros\n",
    "                return curr_nonce\n",
    "            else:\n",
    "                curr_nonce = random.randint(1,10**77)\n",
    "    \n",
    "    def encode_block(self,block):\n",
    "        return str(block.proof) + str(block.previous_hash) + str(block.id) + str(block.time_of_creation)\n",
    "    \n",
    "    \n",
    "    def hash_block(self,block): # take the entire block as input and return its hash value\n",
    "        encoded_block = self.encode_block(block)\n",
    "        return hashlib.sha256(encoded_block.encode()).hexdigest()\n",
    "\n",
    "    def is_chain_valid(self): \n",
    "        #This function iterates over the chain and returns whether the chain is valid or not\n",
    "        #validity is checked on the basis of two points\n",
    "        # 1. The previous hash of each block is equal to the has of the previous block, generated on the fly\n",
    "        # 2. The proof of work is valid\n",
    "        \n",
    "        #checking for point 1\n",
    "        for i in range(1,len(self.chain)):\n",
    "            mentioned_prev_hash = self.chain[i].previous_hash\n",
    "            calculated_prev_hash = self.hash_block(self.chain[i-1])\n",
    "            if(mentioned_prev_hash!=calculated_prev_hash):\n",
    "                return False\n",
    "        \n",
    "        #checking for point 2\n",
    "        for i in range(1,len(self.chain)):\n",
    "            curr_nonce = self.chain[i].proof\n",
    "            prev_nonce = self.chain[i-1].proof\n",
    "            \n",
    "            # we will recalculate the hash to see if it was valid\n",
    "            random_hash = hashlib.sha256(str(curr_nonce**3 - prev_nonce**2).encode()).hexdigest() \n",
    "            #the sha256 algorithm will generate a 64 charactes long hexadecimal string\n",
    "            # the encode method will .....\n",
    "            if(random_hash[:4] != '0000'): # Invalid hash\n",
    "                return False;\n",
    "        # no validation issues found\n",
    "        return True "
   ]
  },
  {
   "cell_type": "code",
   "execution_count": 3,
   "id": "6b51eeef",
   "metadata": {},
   "outputs": [],
   "source": [
    "blockchain = BlockChain()"
   ]
  },
  {
   "cell_type": "markdown",
   "id": "6336edd1",
   "metadata": {},
   "source": [
    "### Creating the webApp"
   ]
  },
  {
   "cell_type": "code",
   "execution_count": 4,
   "id": "22a7b507",
   "metadata": {},
   "outputs": [],
   "source": [
    "from flask import Flask\n",
    "app = Flask(__name__)\n",
    "\n",
    "@app.route('/mine_block',methods=['GET'])\n",
    "def mine_block():\n",
    "    #first we will need to get the proof of work\n",
    "    prev_block = blockchain.get_last_block()\n",
    "    prev_nonce = prev_block.proof #the proof of work of the last block\n",
    "    prev_hash = blockchain.hash_block(prev_block)\n",
    "    mined_nonce = blockchain.generate_proof_of_work(prev_nonce)\n",
    "    #once we have got the proof of work, we will generate the new block\n",
    "    blockchain.create_block(mined_nonce,prev_hash,len(blockchain.chain))\n",
    "    block = blockchain.chain[-1]\n",
    "    # we have succesfully added a new block\n",
    "    response = {\"message\":\"Congratulations, you have mined a block!\",\n",
    "               \"index\":block.id,\n",
    "                \"previous_hash\":block.previous_hash,\n",
    "               \"proof\":block.proof,\n",
    "               \"time of creation\":block.time_of_creation}\n",
    "    return jsonify(response),200\n",
    "\n",
    "@app.route('/get_chain',methods = ['GET'])\n",
    "def get_chain():\n",
    "    \n",
    "    response = jsonify(blocks=[e.serialize() for e in blockchain.chain],length = len(blockchain.chain))\n",
    "    return response,200\n",
    "\n",
    "@app.route('/verify_chain',methods = ['GET'])\n",
    "def verify_chain():\n",
    "    response =  jsonify(res = str(blockchain.is_chain_valid()))\n",
    "    return response, 200\n",
    "    "
   ]
  },
  {
   "cell_type": "code",
   "execution_count": 6,
   "id": "353fc43a",
   "metadata": {
    "scrolled": false
   },
   "outputs": [
    {
     "name": "stdout",
     "output_type": "stream",
     "text": [
      " * Serving Flask app '__main__' (lazy loading)\n",
      " * Environment: production\n",
      "\u001b[31m   WARNING: This is a development server. Do not use it in a production deployment.\u001b[0m\n",
      "\u001b[2m   Use a production WSGI server instead.\u001b[0m\n",
      " * Debug mode: off\n"
     ]
    },
    {
     "name": "stderr",
     "output_type": "stream",
     "text": [
      " * Running on all addresses.\n",
      "   WARNING: This is a development server. Do not use it in a production deployment.\n",
      " * Running on http://192.168.1.21:5000/ (Press CTRL+C to quit)\n",
      "192.168.1.21 - - [28/May/2021 18:13:12] \"GET /mine_block HTTP/1.1\" 200 -\n",
      "192.168.1.21 - - [28/May/2021 18:13:14] \"GET /mine_block HTTP/1.1\" 200 -\n",
      "192.168.1.21 - - [28/May/2021 18:13:17] \"GET /mine_block HTTP/1.1\" 200 -\n",
      "192.168.1.21 - - [28/May/2021 18:13:19] \"GET /mine_block HTTP/1.1\" 200 -\n",
      "192.168.1.21 - - [28/May/2021 18:13:23] \"GET /verify_chain HTTP/1.1\" 200 -\n",
      "192.168.1.21 - - [28/May/2021 18:13:30] \"GET /mine_block HTTP/1.1\" 200 -\n"
     ]
    }
   ],
   "source": [
    "app.run(host ='0.0.0.0',port = 5000)"
   ]
  }
 ],
 "metadata": {
  "kernelspec": {
   "display_name": "Python [conda env:torch] *",
   "language": "python",
   "name": "conda-env-torch-py"
  },
  "language_info": {
   "codemirror_mode": {
    "name": "ipython",
    "version": 3
   },
   "file_extension": ".py",
   "mimetype": "text/x-python",
   "name": "python",
   "nbconvert_exporter": "python",
   "pygments_lexer": "ipython3",
   "version": "3.7.10"
  }
 },
 "nbformat": 4,
 "nbformat_minor": 5
}
